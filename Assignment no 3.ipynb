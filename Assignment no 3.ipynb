{
 "cells": [
  {
   "cell_type": "code",
   "execution_count": 3,
   "id": "12b46487",
   "metadata": {},
   "outputs": [
    {
     "name": "stdout",
     "output_type": "stream",
     "text": [
      "2021-12-31 02:50:50.264779\n",
      "\n",
      "**************************\n",
      "\n",
      "Today day is: Friday\n",
      "Local verison of Date: 12/31/21\n",
      "Local verison of time: 02:50:50\n"
     ]
    }
   ],
   "source": [
    "# 3. Write a Python program to display the current date and time.\n",
    "\n",
    "import datetime\n",
    "today=datetime.datetime.now()\n",
    "\n",
    "print(today)\n",
    "print(\"\\n**************************\")\n",
    "print(\"\\nToday day is:\",today.strftime(\"%A\"))\n",
    "print(\"Local verison of Date:\",today.strftime(\"%x\"))\n",
    "print(\"Local verison of time:\",today.strftime(\"%X\"))"
   ]
  },
  {
   "cell_type": "code",
   "execution_count": null,
   "id": "27128d9d",
   "metadata": {},
   "outputs": [],
   "source": []
  }
 ],
 "metadata": {
  "kernelspec": {
   "display_name": "Python 3",
   "language": "python",
   "name": "python3"
  },
  "language_info": {
   "codemirror_mode": {
    "name": "ipython",
    "version": 3
   },
   "file_extension": ".py",
   "mimetype": "text/x-python",
   "name": "python",
   "nbconvert_exporter": "python",
   "pygments_lexer": "ipython3",
   "version": "3.8.8"
  }
 },
 "nbformat": 4,
 "nbformat_minor": 5
}
