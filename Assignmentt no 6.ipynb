{
 "cells": [
  {
   "cell_type": "code",
   "execution_count": 3,
   "id": "ae57a380",
   "metadata": {},
   "outputs": [
    {
     "name": "stdout",
     "output_type": "stream",
     "text": [
      "Enter the 1st no:12\n",
      "\n",
      "Enter the 2nd no:13\n",
      "\n",
      "sum of 12 and 13 is:\n",
      " 1213\n",
      "\n",
      "Another way\n",
      "sum of x and y  is: 1213\n"
     ]
    }
   ],
   "source": [
    "#6. Write a python program which takes two inputs from user and print them addition\n",
    "\n",
    "x=input(\"Enter the 1st no:\")\n",
    "y=input(\"\\nEnter the 2nd no:\")\n",
    "add=x+y\n",
    "print(\"\\nsum of\",x +\" and\",y + \" is:\\n\",add)\n",
    "#another way\n",
    "print(\"\\nAnother way\")\n",
    "print(\"sum of x and y  is:\",x+y)\n"
   ]
  },
  {
   "cell_type": "code",
   "execution_count": null,
   "id": "6b68d959",
   "metadata": {},
   "outputs": [],
   "source": []
  }
 ],
 "metadata": {
  "kernelspec": {
   "display_name": "Python 3",
   "language": "python",
   "name": "python3"
  },
  "language_info": {
   "codemirror_mode": {
    "name": "ipython",
    "version": 3
   },
   "file_extension": ".py",
   "mimetype": "text/x-python",
   "name": "python",
   "nbconvert_exporter": "python",
   "pygments_lexer": "ipython3",
   "version": "3.8.8"
  }
 },
 "nbformat": 4,
 "nbformat_minor": 5
}
