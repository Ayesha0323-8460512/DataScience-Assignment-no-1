{
 "cells": [
  {
   "cell_type": "code",
   "execution_count": 1,
   "id": "4c30494e",
   "metadata": {},
   "outputs": [
    {
     "name": "stdout",
     "output_type": "stream",
     "text": [
      "Enter your firstname:Ayesha\n",
      "\n",
      "Enter your lastname:Arshad\n",
      "AyeshaArshad\n",
      "\n",
      "Revrse name is:\n",
      "Arshad Ayesha\n"
     ]
    }
   ],
   "source": [
    "# 5. Write a Python program which accepts the user's first and last name and print them in reverse order with a space between them.\n",
    "\n",
    "firstname=input(\"Enter your firstname:\")\n",
    "lastname=input(\"\\nEnter your lastname:\")\n",
    "print(firstname+lastname)\n",
    "print(\"\\nRevrse name is:\")\n",
    "fullname=lastname + \" \" + firstname\n",
    "print(fullname)"
   ]
  },
  {
   "cell_type": "code",
   "execution_count": null,
   "id": "c9b66180",
   "metadata": {},
   "outputs": [],
   "source": []
  }
 ],
 "metadata": {
  "kernelspec": {
   "display_name": "Python 3",
   "language": "python",
   "name": "python3"
  },
  "language_info": {
   "codemirror_mode": {
    "name": "ipython",
    "version": 3
   },
   "file_extension": ".py",
   "mimetype": "text/x-python",
   "name": "python",
   "nbconvert_exporter": "python",
   "pygments_lexer": "ipython3",
   "version": "3.8.8"
  }
 },
 "nbformat": 4,
 "nbformat_minor": 5
}
