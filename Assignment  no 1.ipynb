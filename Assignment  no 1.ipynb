{
 "cells": [
  {
   "cell_type": "code",
   "execution_count": 1,
   "id": "63f7d01c",
   "metadata": {},
   "outputs": [
    {
     "name": "stdout",
     "output_type": "stream",
     "text": [
      "\t\tTwinkle, twinkle, little star,\n",
      "\t\t\tHow I wonder what you are!\n",
      "\t\t\t\tUp above the world so high,\n",
      "\t\t\t\tLike a diamond in the sky.\n",
      "\t\tTwinkle, twinkle, little star,\n",
      "\t\t\tHow I wonder what you are!\n",
      "\n",
      "\t\t*******************************\n",
      "\n",
      "\t\tTwinkle, twinkle, little star, \n",
      "\t\t\tHow I wonder what you are! \n",
      "\t\t\t\tUp above the world so high, \n",
      "\t\t\t\tLike a diamond in the sky. \n",
      "\t\tTwinkle, twinkle, little star, \n",
      "\t\t\tHow I wonder what you are!\n"
     ]
    }
   ],
   "source": [
    "#1. Write a Python program to print the following string in a specific format\n",
    "\n",
    "print(\"\\t\\tTwinkle, twinkle, little star,\")\n",
    "print(\"\\t\\t\\tHow I wonder what you are!\")\n",
    "print(\"\\t\\t\\t\\tUp above the world so high,\")\n",
    "print(\"\\t\\t\\t\\tLike a diamond in the sky.\")\n",
    "print(\"\\t\\tTwinkle, twinkle, little star,\")\n",
    "print(\"\\t\\t\\tHow I wonder what you are!\")\n",
    "\n",
    "# in one line\n",
    "print(\"\\n\\t\\t*******************************\")\n",
    "print(\"\\n\\t\\tTwinkle, twinkle, little star, \\n\\t\\t\\tHow I wonder what you are! \\n\\t\\t\\t\\tUp above the world so high, \\n\\t\\t\\t\\tLike a diamond in the sky. \\n\\t\\tTwinkle, twinkle, little star, \\n\\t\\t\\tHow I wonder what you are!\")\n"
   ]
  },
  {
   "cell_type": "code",
   "execution_count": null,
   "id": "0f63a66c",
   "metadata": {},
   "outputs": [],
   "source": []
  }
 ],
 "metadata": {
  "kernelspec": {
   "display_name": "Python 3",
   "language": "python",
   "name": "python3"
  },
  "language_info": {
   "codemirror_mode": {
    "name": "ipython",
    "version": 3
   },
   "file_extension": ".py",
   "mimetype": "text/x-python",
   "name": "python",
   "nbconvert_exporter": "python",
   "pygments_lexer": "ipython3",
   "version": "3.8.8"
  }
 },
 "nbformat": 4,
 "nbformat_minor": 5
}
