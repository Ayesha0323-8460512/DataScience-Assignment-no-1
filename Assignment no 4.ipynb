{
 "cells": [
  {
   "cell_type": "code",
   "execution_count": 1,
   "id": "e6027cc9",
   "metadata": {},
   "outputs": [
    {
     "name": "stdout",
     "output_type": "stream",
     "text": [
      "\t\t\tArea of circle without 'math module'\n",
      "Enter the radius:12.3\n",
      "Area of circle is: 475.0506000000001\n",
      "\n",
      "\t\t\tArea of circle with 'math module'\n",
      "\n",
      "Enter the radius:12.3\n",
      "Area of circle is: 475.2915525615999\n"
     ]
    }
   ],
   "source": [
    "# 4. Write a Python program which accepts the radius of a circle from the user and compute the area.\n",
    "\n",
    "#without math module\n",
    "\n",
    "print(\"\\t\\t\\tArea of circle without 'math module'\")\n",
    "pi=3.14\n",
    "R=float(input(\"Enter the radius:\"))\n",
    "area=pi*R*R\n",
    "print(\"Area of circle is:\",area)\n",
    "\n",
    "# with math module\n",
    "\n",
    "print(\"\\n\\t\\t\\tArea of circle with 'math module'\")\n",
    "import math\n",
    "r=float(input(\"\\nEnter the radius:\"))\n",
    "PI=math.pi\n",
    "Area=PI*r*r\n",
    "print(\"Area of circle is:\",Area)"
   ]
  },
  {
   "cell_type": "code",
   "execution_count": null,
   "id": "a07eb1dd",
   "metadata": {},
   "outputs": [],
   "source": []
  }
 ],
 "metadata": {
  "kernelspec": {
   "display_name": "Python 3",
   "language": "python",
   "name": "python3"
  },
  "language_info": {
   "codemirror_mode": {
    "name": "ipython",
    "version": 3
   },
   "file_extension": ".py",
   "mimetype": "text/x-python",
   "name": "python",
   "nbconvert_exporter": "python",
   "pygments_lexer": "ipython3",
   "version": "3.8.8"
  }
 },
 "nbformat": 4,
 "nbformat_minor": 5
}
